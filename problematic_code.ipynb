{
 "cells": [
  {
   "cell_type": "code",
   "execution_count": null,
   "metadata": {},
   "outputs": [],
   "source": [
    "z_score_df = pd.DataFrame(zscore(earthquake_effects_numerical_data, nan_policy=\"omit\"), columns=earthquake_effects_numerical_columns)\n",
    "to_take = ~z_score_df.isnull() & z_score_df < 2\n",
    "\n",
    "for col in earthquake_effects_numerical_columns:\n",
    "    to_plot = earthquake_effects_numerical_data[col]\n",
    "    fig = plt.figure(figsize=(16, 4))\n",
    "    sns.kdeplot(to_plot.values[to_take[col]], fill=True)   \n",
    "    plt.title(f\"KDE distribution - {col}\") \n",
    "\n",
    "fig.tight_layout()\n",
    "plt.show()\n"
   ]
  }
 ],
 "metadata": {
  "language_info": {
   "name": "python"
  },
  "orig_nbformat": 4
 },
 "nbformat": 4,
 "nbformat_minor": 2
}
